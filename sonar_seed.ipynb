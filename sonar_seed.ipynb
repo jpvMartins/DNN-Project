{
 "cells": [
  {
   "cell_type": "code",
   "execution_count": 1,
   "id": "31ba6519",
   "metadata": {},
   "outputs": [],
   "source": [
    "from keras import models\n",
    "import pandas as pd \n",
    "import keras\n",
    "from keras.models import Sequential\n",
    "from keras.layers import Dense\n",
    "from keras.wrappers.scikit_learn import KerasClassifier\n",
    "from sklearn.model_selection import cross_val_score\n",
    "from sklearn.preprocessing import LabelEncoder\n",
    "from sklearn.model_selection import StratifiedKFold\n",
    "import matplotlib.pyplot as pyplot\n",
    "from sklearn.model_selection import train_test_split\n",
    "from numpy.random import seed\n",
    "import os\n",
    "import time\n",
    "import tensorflow as tf\n",
    "import pandas as pd\n",
    "import keras.backend as K\n",
    "from csv import writer\n",
    "from csv import reader"
   ]
  },
  {
   "cell_type": "code",
   "execution_count": 2,
   "id": "b3f3ea7a",
   "metadata": {},
   "outputs": [],
   "source": [
    "seeds = list(range(0,10))\n",
    "multiply= [0.5,1,2]\n",
    "class TimeHistory(keras.callbacks.Callback):\n",
    "    def on_train_begin(self, logs={}):\n",
    "        self.times = []\n",
    "\n",
    "    def on_epoch_begin(self, epoch, logs={}):\n",
    "        self.epoch_time_start = time.time()\n",
    "\n",
    "    def on_epoch_end(self, epoch, logs={}):\n",
    "        self.times.append(time.time() - self.epoch_time_start)"
   ]
  },
  {
   "cell_type": "code",
   "execution_count": 3,
   "id": "52f0b3cd",
   "metadata": {},
   "outputs": [],
   "source": [
    "data = pd.read_csv('.\\Sonar_seed_result/Sonar.csv')\n",
    "\n",
    "X = data.values[:,0:60].astype(float)\n",
    "y = data.values[:,60]\n",
    "\n",
    "encoder = LabelEncoder()\n",
    "encoder.fit(y)\n",
    "encoded_Y = encoder.transform(y)"
   ]
  },
  {
   "cell_type": "code",
   "execution_count": 4,
   "id": "f9f36219",
   "metadata": {},
   "outputs": [
    {
     "data": {
      "text/plain": [
       "207"
      ]
     },
     "execution_count": 4,
     "metadata": {},
     "output_type": "execute_result"
    }
   ],
   "source": [
    "data"
   ]
  },
  {
   "cell_type": "code",
   "execution_count": null,
   "id": "c10fd84d",
   "metadata": {},
   "outputs": [],
   "source": [
    "for mltp in multiply:\n",
    "    for actual_seed in seeds:\n",
    "        seed(actual_seed)\n",
    "        tf.random.set_seed(actual_seed)\n",
    "\n",
    "\n",
    "        x_train,x_validate,y_train,y_validate = train_test_split(X,encoded_Y,test_size = 0.2,random_state = actual_seed)\n",
    "\n",
    "        model = Sequential()\n",
    "        model.add(Dense(100*mltp, input_dim=60, activation='relu'))\n",
    "        model.add(Dense(1, activation='sigmoid'))\n",
    "\n",
    "        filename = \".\\Sonar_seed_result/\"+\"Sonar_\" + str(mltp) + \"_\" + str(actual_seed) + \".csv\"\n",
    "        history_logger= keras.callbacks.CSVLogger(filename, separator=\",\", append=False)\n",
    "        time_callback = TimeHistory()\n",
    "        model.compile(loss='binary_crossentropy', optimizer='adam')\n",
    "\n",
    "        history=model.fit(x_train,y_train,batch_size=5, \n",
    "                          epochs=100,\n",
    "                          validation_data=(x_validate,y_validate),\n",
    "                          callbacks=[history_logger,time_callback]\n",
    "                         )\n",
    "        times = time_callback.times\n",
    "        csv_input = pd.read_csv(filename)\n",
    "        csv_input['time'] = times\n",
    "        csv_input.to_csv(filename, index=False)\n",
    "        K.clear_session()\n",
    "        del model\n",
    "        tf.compat.v1.reset_default_graph()"
   ]
  }
 ],
 "metadata": {
  "kernelspec": {
   "display_name": "Python 3.8.8 ('base')",
   "language": "python",
   "name": "python3"
  },
  "language_info": {
   "codemirror_mode": {
    "name": "ipython",
    "version": 3
   },
   "file_extension": ".py",
   "mimetype": "text/x-python",
   "name": "python",
   "nbconvert_exporter": "python",
   "pygments_lexer": "ipython3",
   "version": "3.8.8"
  },
  "vscode": {
   "interpreter": {
    "hash": "ad2bdc8ecc057115af97d19610ffacc2b4e99fae6737bb82f5d7fb13d2f2c186"
   }
  }
 },
 "nbformat": 4,
 "nbformat_minor": 5
}
