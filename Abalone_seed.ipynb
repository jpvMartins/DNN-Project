{
 "cells": [
  {
   "cell_type": "code",
   "execution_count": null,
   "metadata": {},
   "outputs": [],
   "source": [
    "\n",
    "import keras\n",
    "import os\n",
    "import time\n",
    "import numpy as np\n",
    "import pandas as pd\n",
    "import matplotlib.pyplot as plt\n",
    "import keras.backend as K\n",
    "import matplotlib.pyplot as pyplot\n",
    "import tensorflow as tf\n",
    "from keras import models\n",
    "from sklearn import datasets\n",
    "from sklearn.model_selection import train_test_split\n",
    "from sklearn.preprocessing import MinMaxScaler\n",
    "from keras.models import Sequential\n",
    "from keras.layers import Dense\n",
    "from keras import models\n",
    "from keras import layers\n",
    "from keras.utils.np_utils import to_categorical\n",
    "from numpy.random import seed\n",
    "from tensorflow import keras\n",
    "keras.__version__\n",
    "from keras import layers\n",
    "from keras import regularizers\n",
    "from csv import writer\n",
    "from csv import reader\n",
    "from keras.wrappers.scikit_learn import KerasClassifier\n",
    "from sklearn.model_selection import cross_val_score\n",
    "from sklearn.preprocessing import LabelEncoder\n",
    "from sklearn.model_selection import StratifiedKFold"
   ]
  },
  {
   "cell_type": "code",
   "execution_count": null,
   "metadata": {},
   "outputs": [],
   "source": [
    "seeds = list(range(0,10))\n",
    "multiply= [2,1,0.5]\n",
    "class TimeHistory(keras.callbacks.Callback):\n",
    "    def on_train_begin(self, logs={}):\n",
    "        self.times = []\n",
    "\n",
    "    def on_epoch_begin(self, epoch, logs={}):\n",
    "        self.epoch_time_start = time.time()\n",
    "\n",
    "    def on_epoch_end(self, epoch, logs={}):\n",
    "        self.times.append(time.time() - self.epoch_time_start)"
   ]
  },
  {
   "cell_type": "code",
   "execution_count": null,
   "metadata": {},
   "outputs": [],
   "source": [
    "data = pd.read_csv('.\\Abalone_seed_result/abalone.csv')\n",
    "print(data)\n",
    "\n",
    "# One hot enconding\n",
    "i=0; \n",
    "for sex in data['Sex'].unique():\n",
    "            data['Sex']=data['Sex'].replace(to_replace=sex,value=i)\n",
    "            i=i+1\n",
    "\n",
    "X=data.iloc[:,0:8]\n",
    "y=data.iloc[:,8].values\n",
    "\n",
    "scalar= MinMaxScaler()\n",
    "X= scalar.fit_transform(X)\n",
    "y= y.reshape(-1,1)\n",
    "y=scalar.fit_transform(y)\n",
    "\n",
    "for mltp in multiply:\n",
    "    for actual_seed in seeds:\n",
    "        seed(actual_seed)\n",
    "        tf.random.set_seed(actual_seed)\n",
    "\n",
    "\n",
    "        X_train, X_test, y_train, y_test = train_test_split(X, y, test_size=0.2,random_state=actual_seed)\n",
    "\n",
    "        model = Sequential()\n",
    "        model.add(Dense(units=6*mltp, input_dim=8,activation='relu'))\n",
    "        model.add(Dense(units=6*mltp, activation='relu'))\n",
    "        model.add(Dense(units=6*mltp ,activation='relu'))\n",
    "        model.add(Dense(units=1,activation='linear'))\n",
    "        \n",
    "        model.compile(optimizer=\"adam\", \n",
    "                      loss='mean_squared_error')\n",
    "        \n",
    "        filename =\".\\Abalone_seed_result/\"+ \"Abalone_\" + str(mltp) + \"_\" + str(actual_seed) + \".csv\"\n",
    "        history_logger= keras.callbacks.CSVLogger(filename, separator=\",\", append=False)\n",
    "        time_callback = TimeHistory()\n",
    "        history=model.fit(X_train,y_train,\n",
    "                          batch_size=32, \n",
    "                          validation_data=(X_test,y_test),\n",
    "                          epochs=100,\n",
    "                          callbacks=[history_logger,time_callback])\n",
    "\n",
    "        times = time_callback.times\n",
    "        csv_input = pd.read_csv(filename)\n",
    "        csv_input['time'] = times\n",
    "        csv_input.to_csv(filename, index=False)\n",
    "        K.clear_session()\n",
    "        del model\n",
    "        tf.compat.v1.reset_default_graph()"
   ]
  }
 ],
 "metadata": {
  "kernelspec": {
   "display_name": "Python 3.8.8 ('base')",
   "language": "python",
   "name": "python3"
  },
  "language_info": {
   "name": "python",
   "version": "3.8.8"
  },
  "orig_nbformat": 4,
  "vscode": {
   "interpreter": {
    "hash": "ad2bdc8ecc057115af97d19610ffacc2b4e99fae6737bb82f5d7fb13d2f2c186"
   }
  }
 },
 "nbformat": 4,
 "nbformat_minor": 2
}
