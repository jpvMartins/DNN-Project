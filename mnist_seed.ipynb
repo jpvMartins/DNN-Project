{
 "cells": [
  {
   "cell_type": "code",
   "execution_count": 1,
   "id": "6a9e5822",
   "metadata": {},
   "outputs": [],
   "source": [
    "from tensorflow import keras\n",
    "import keras.backend as K\n",
    "from keras import regularizers\n",
    "from keras import models\n",
    "from keras import layers\n",
    "from keras.datasets import mnist\n",
    "from keras.utils import to_categorical\n",
    "import matplotlib.pyplot as pyplot\n",
    "import os\n",
    "import time\n",
    "import tensorflow as tf\n",
    "import pandas as pd\n",
    "from numpy.random import seed\n",
    "from csv import writer\n",
    "from csv import reader\n"
   ]
  },
  {
   "cell_type": "code",
   "execution_count": 2,
   "id": "f88fc9ce",
   "metadata": {},
   "outputs": [],
   "source": [
    "(train_images, train_labels), (test_images, test_labels) = mnist.load_data()  # import do data set mnist"
   ]
  },
  {
   "cell_type": "code",
   "execution_count": 3,
   "id": "d06a3782",
   "metadata": {},
   "outputs": [],
   "source": [
    "train_images = train_images.reshape((60000, 28 * 28))\n",
    "train_images = train_images.astype('float32') / 255\n",
    "\n",
    "test_images = test_images.reshape((10000, 28 * 28))\n",
    "test_images = test_images.astype('float32') / 255\n",
    "\n",
    "\n",
    "train_labels = to_categorical(train_labels)\n",
    "test_labels = to_categorical(test_labels)"
   ]
  },
  {
   "cell_type": "code",
   "execution_count": 4,
   "id": "f47aed44",
   "metadata": {},
   "outputs": [],
   "source": [
    "x_val = test_images[-10000:]\n",
    "y_val = test_labels[-10000:]\n",
    "x_train = train_images[:-10000]\n",
    "y_train = train_labels[:-10000]"
   ]
  },
  {
   "cell_type": "code",
   "execution_count": 5,
   "id": "7a6dbe23",
   "metadata": {},
   "outputs": [],
   "source": [
    "seeds = list(range(0,10))\n",
    "multiply= [0.5,1,2]\n",
    "class TimeHistory(keras.callbacks.Callback):\n",
    "    def on_train_begin(self, logs={}):\n",
    "        self.times = []\n",
    "\n",
    "    def on_epoch_begin(self, epoch, logs={}):\n",
    "        self.epoch_time_start = time.time()\n",
    "\n",
    "    def on_epoch_end(self, epoch, logs={}):\n",
    "        self.times.append(time.time() - self.epoch_time_start)"
   ]
  },
  {
   "cell_type": "code",
   "execution_count": null,
   "id": "d7e85ff5",
   "metadata": {},
   "outputs": [],
   "source": [
    "for mltp in multiply:\n",
    "    for actual_seed in seeds:\n",
    "        seed(actual_seed)\n",
    "        tf.random.set_seed(actual_seed)\n",
    "        random_state = actual_seed\n",
    "\n",
    "        model = models.Sequential() \n",
    "        model.add(layers.Dense(int(512*mltp), activation= 'relu', input_shape=(28 * 28,)))\n",
    "        model.add(layers.Dense(10, activation='softmax' ))    \n",
    "        \n",
    "        filename =  \".\\Mnist_seed_adam_result/\"+\"Mnist_\" + str(mltp) + \"_\" +str(actual_seed)+ \".csv\"\n",
    "        history_logger= keras.callbacks.CSVLogger(filename, separator=\",\", append= False)\n",
    "        time_callback = TimeHistory()\n",
    "        model.compile(optimizer=\"adam\",\n",
    "              loss='categorical_crossentropy')\n",
    "\n",
    "        history = model.fit(x_train,\n",
    "                            y_train,\n",
    "                            epochs=200,\n",
    "                            batch_size=128, \n",
    "                            validation_data=(x_val, y_val),\n",
    "                            callbacks=[history_logger,time_callback])\n",
    "        \n",
    "        times = time_callback.times\n",
    "        csv_input = pd.read_csv(filename)\n",
    "        csv_input['time'] = times\n",
    "        csv_input.to_csv(filename, index=False)\n",
    "        K.clear_session()\n",
    "        del model\n",
    "        tf.compat.v1.reset_default_graph()\n"
   ]
  }
 ],
 "metadata": {
  "kernelspec": {
   "display_name": "Python 3.8.8 ('base')",
   "language": "python",
   "name": "python3"
  },
  "language_info": {
   "codemirror_mode": {
    "name": "ipython",
    "version": 3
   },
   "file_extension": ".py",
   "mimetype": "text/x-python",
   "name": "python",
   "nbconvert_exporter": "python",
   "pygments_lexer": "ipython3",
   "version": "3.8.8"
  },
  "vscode": {
   "interpreter": {
    "hash": "ad2bdc8ecc057115af97d19610ffacc2b4e99fae6737bb82f5d7fb13d2f2c186"
   }
  }
 },
 "nbformat": 4,
 "nbformat_minor": 5
}
