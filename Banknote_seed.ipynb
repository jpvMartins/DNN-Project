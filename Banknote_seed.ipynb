{
 "cells": [
  {
   "cell_type": "code",
   "execution_count": 1,
   "id": "c9c84a40",
   "metadata": {},
   "outputs": [],
   "source": [
    "from keras import models\n",
    "import pandas as pd \n",
    "import keras\n",
    "from matplotlib import pyplot\n",
    "from sklearn.model_selection import train_test_split\n",
    "from tensorflow.python.keras.engine import sequential \n",
    "from keras.models import Sequential\n",
    "from keras.layers import Dense, Flatten\n",
    "from numpy.random import seed\n",
    "import os\n",
    "import time\n",
    "import tensorflow as tf\n",
    "import pandas as pd\n",
    "import keras.backend as K\n",
    "from csv import writer\n",
    "from csv import reader\n"
   ]
  },
  {
   "cell_type": "code",
   "execution_count": 2,
   "id": "c03855f2",
   "metadata": {},
   "outputs": [],
   "source": [
    "data = pd.read_csv('.\\Banknote_seed_result/banknote.csv')"
   ]
  },
  {
   "cell_type": "code",
   "execution_count": 3,
   "id": "c9cba244",
   "metadata": {},
   "outputs": [],
   "source": [
    "seeds = list(range(0,10))\n",
    "multiply= [0.5,1,2]\n",
    "class TimeHistory(keras.callbacks.Callback):\n",
    "    def on_train_begin(self, logs={}):\n",
    "        self.times = []\n",
    "\n",
    "    def on_epoch_begin(self, epoch, logs={}):\n",
    "        self.epoch_time_start = time.time()\n",
    "\n",
    "    def on_epoch_end(self, epoch, logs={}):\n",
    "        self.times.append(time.time() - self.epoch_time_start)"
   ]
  },
  {
   "cell_type": "code",
   "execution_count": 4,
   "id": "08f90e3b",
   "metadata": {},
   "outputs": [],
   "source": [
    "X, y = data.values[:, :-1], data.values[:, -1]"
   ]
  },
  {
   "cell_type": "code",
   "execution_count": 5,
   "id": "dd5ccc7e",
   "metadata": {},
   "outputs": [],
   "source": [
    "for mltp in multiply:\n",
    "    for actual_seed in seeds:\n",
    "        seed(actual_seed)\n",
    "        tf.random.set_seed(actual_seed)\n",
    "\n",
    "        X_train, X_test, y_train, y_test = train_test_split(X, y, test_size=0.33,random_state= actual_seed)\n",
    "\n",
    "\n",
    "        n_features = X.shape[1]\n",
    "        model = Sequential()\n",
    "        model.add(Dense(10*mltp, activation='relu', kernel_initializer='he_normal', input_shape=(n_features,)))\n",
    "        model.add(Dense(1, activation='sigmoid'))\n",
    "\n",
    "        filename = \".\\Banknote_seed_result/\"+\"Banknote_\" + str(mltp) + \"_\" +str(actual_seed)+ \".csv\"\n",
    "        history_logger= keras.callbacks.CSVLogger(filename, separator=\",\", append=True)\n",
    "        time_callback = TimeHistory()\n",
    "        model.compile(optimizer=\"adam\", loss='binary_crossentropy')\n",
    "        history = model.fit(X_train, y_train,\n",
    "                            epochs=100, batch_size=32, verbose=0, \n",
    "                            validation_data=(X_test,y_test),\n",
    "                            callbacks=[history_logger,time_callback])\n",
    "        \n",
    "        times = time_callback.times\n",
    "        csv_input = pd.read_csv(filename)\n",
    "        csv_input['time'] = times\n",
    "        csv_input.to_csv(filename, index=False)\n",
    "        K.clear_session()\n",
    "        del model\n",
    "        tf.compat.v1.reset_default_graph()"
   ]
  }
 ],
 "metadata": {
  "kernelspec": {
   "display_name": "Python 3.7.11 ('fastai')",
   "language": "python",
   "name": "python3"
  },
  "language_info": {
   "codemirror_mode": {
    "name": "ipython",
    "version": 3
   },
   "file_extension": ".py",
   "mimetype": "text/x-python",
   "name": "python",
   "nbconvert_exporter": "python",
   "pygments_lexer": "ipython3",
   "version": "3.7.11"
  },
  "vscode": {
   "interpreter": {
    "hash": "f54b8b365741a5ea643742f3b575bebb692eefe356aeb6420ded503ab3b57434"
   }
  }
 },
 "nbformat": 4,
 "nbformat_minor": 5
}
